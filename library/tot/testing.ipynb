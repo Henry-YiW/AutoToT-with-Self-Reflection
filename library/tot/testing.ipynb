{
 "cells": [
  {
   "cell_type": "code",
   "execution_count": 1,
   "metadata": {},
   "outputs": [
    {
     "name": "stdout",
     "output_type": "stream",
     "text": [
      "Evaluate if given numbers can reach 24 (sure/likely/impossible)\n",
      "10 14\n",
      "10 + 14 = 24\n",
      "sure\n",
      "11 12\n",
      "11 + 12 = 23\n",
      "12 - 11 = 1\n",
      "11 * 12 = 132\n",
      "11 / 12 = 0.91\n",
      "impossible\n",
      "4 4 10\n",
      "4 + 4 + 10 = 8 + 10 = 18\n",
      "4 * 10 - 4 = 40 - 4 = 36\n",
      "(10 - 4) * 4 = 6 * 4 = 24\n",
      "sure\n",
      "4 9 11\n",
      "9 + 11 + 4 = 20 + 4 = 24\n",
      "sure\n",
      "5 7 8\n",
      "5 + 7 + 8 = 12 + 8 = 20\n",
      "(8 - 5) * 7 = 3 * 7 = 21\n",
      "I cannot obtain 24 now, but numbers are within a reasonable range\n",
      "likely\n",
      "5 6 6\n",
      "5 + 6 + 6 = 17\n",
      "(6 - 5) * 6 = 1 * 6 = 6\n",
      "I cannot obtain 24 now, but numbers are within a reasonable range\n",
      "likely\n",
      "10 10 11\n",
      "10 + 10 + 11 = 31\n",
      "(11 - 10) * 10 = 10\n",
      "10 10 10 are all too big\n",
      "impossible\n",
      "1 3 3\n",
      "1 * 3 * 3 = 9\n",
      "(1 + 3) * 3 = 12\n",
      "1 3 3 are all too small\n",
      "impossible\n",
      "8 8 9.5 14\n",
      "\n"
     ]
    }
   ],
   "source": [
    "print('Evaluate if given numbers can reach 24 (sure/likely/impossible)\\n10 14\\n10 + 14 = 24\\nsure\\n11 12\\n11 + 12 = 23\\n12 - 11 = 1\\n11 * 12 = 132\\n11 / 12 = 0.91\\nimpossible\\n4 4 10\\n4 + 4 + 10 = 8 + 10 = 18\\n4 * 10 - 4 = 40 - 4 = 36\\n(10 - 4) * 4 = 6 * 4 = 24\\nsure\\n4 9 11\\n9 + 11 + 4 = 20 + 4 = 24\\nsure\\n5 7 8\\n5 + 7 + 8 = 12 + 8 = 20\\n(8 - 5) * 7 = 3 * 7 = 21\\nI cannot obtain 24 now, but numbers are within a reasonable range\\nlikely\\n5 6 6\\n5 + 6 + 6 = 17\\n(6 - 5) * 6 = 1 * 6 = 6\\nI cannot obtain 24 now, but numbers are within a reasonable range\\nlikely\\n10 10 11\\n10 + 10 + 11 = 31\\n(11 - 10) * 10 = 10\\n10 10 10 are all too big\\nimpossible\\n1 3 3\\n1 * 3 * 3 = 9\\n(1 + 3) * 3 = 12\\n1 3 3 are all too small\\nimpossible\\n8 8 9.5 14\\n')"
   ]
  },
  {
   "cell_type": "code",
   "execution_count": null,
   "metadata": {},
   "outputs": [],
   "source": []
  }
 ],
 "metadata": {
  "kernelspec": {
   "display_name": "ML-Algorithm-LowerVersion",
   "language": "python",
   "name": "python3"
  },
  "language_info": {
   "codemirror_mode": {
    "name": "ipython",
    "version": 3
   },
   "file_extension": ".py",
   "mimetype": "text/x-python",
   "name": "python",
   "nbconvert_exporter": "python",
   "pygments_lexer": "ipython3",
   "version": "3.10.0"
  }
 },
 "nbformat": 4,
 "nbformat_minor": 2
}
